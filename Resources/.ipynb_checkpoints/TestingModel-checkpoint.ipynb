{
 "cells": [
  {
   "cell_type": "code",
   "execution_count": 57,
   "metadata": {},
   "outputs": [
    {
     "name": "stdout",
     "output_type": "stream",
     "text": [
      "[1 0]\n",
      "Your Text is neutral!\n"
     ]
    }
   ],
   "source": [
    "from nltk.corpus import stopwords\n",
    "from nltk.stem import WordNetLemmatizer\n",
    "import pandas as pd\n",
    "import re\n",
    "import pickle\n",
    "from sklearn.feature_extraction.text import CountVectorizer\n",
    "from sklearn.model_selection import train_test_split\n",
    "from sklearn.naive_bayes import MultinomialNB\n",
    "from sklearn.metrics import confusion_matrix,classification_report\n",
    "import sys\n",
    "\n",
    "with open('TweetBrain','rb') as f:\n",
    "    hate_speech_detect=pickle.load(f)\n",
    "f=open('featurefile.txt','r')\n",
    "dim=f.read()\n",
    "f.close()\n",
    "cv=CountVectorizer(max_features=34000)\n",
    "\n",
    "wordnet = WordNetLemmatizer()\n",
    "import sys\n",
    "try :\n",
    "    tweets=\"\"\n",
    "    if(len(sys.argv)==2):\n",
    "        tweets=sys.argv[1]\n",
    "    print(tweets)\n",
    "#     tweets =[\"Your good thing is sweet\"]\n",
    "    df =pd.DataFrame(data = tweets,columns = [\"tweet\"])\n",
    "    lis = []\n",
    "    for i in range(0,len(tweets)):\n",
    "        review = re.sub('[^a-zA-Z]', ' ',df['tweet'][i])\n",
    "        review = review.lower()\n",
    "        review = review.split()\n",
    "        review = [wordnet.lemmatize(word) for word in review if not word in stopwords.words('english')]\n",
    "        review = ' '.join(review)\n",
    "        lis.append(review)\n",
    "except Exception as e:\n",
    "    print(e)\n",
    "    \n",
    "inp=[]\n",
    "inp.append(dim)\n",
    "inp.append(*lis)\n",
    "predictionset=cv.fit_transform(inp).toarray()\n",
    "    #print(predictionset)\n",
    "y_predion=hate_speech_detect.predict(predictionset)\n",
    "print(y_predion)\n",
    "if y_predion[1] == 1:\n",
    "    print(\"Your Text is Hateful!\")\n",
    "else:\n",
    "    print(\"Your Text is neutral!\")"
   ]
  },
  {
   "cell_type": "code",
   "execution_count": 49,
   "metadata": {},
   "outputs": [],
   "source": []
  },
  {
   "cell_type": "code",
   "execution_count": 52,
   "metadata": {},
   "outputs": [],
   "source": []
  },
  {
   "cell_type": "code",
   "execution_count": null,
   "metadata": {},
   "outputs": [],
   "source": []
  },
  {
   "cell_type": "code",
   "execution_count": null,
   "metadata": {},
   "outputs": [],
   "source": []
  }
 ],
 "metadata": {
  "kernelspec": {
   "display_name": "Python 3",
   "language": "python",
   "name": "python3"
  },
  "language_info": {
   "codemirror_mode": {
    "name": "ipython",
    "version": 3
   },
   "file_extension": ".py",
   "mimetype": "text/x-python",
   "name": "python",
   "nbconvert_exporter": "python",
   "pygments_lexer": "ipython3",
   "version": "3.6.8"
  }
 },
 "nbformat": 4,
 "nbformat_minor": 2
}
